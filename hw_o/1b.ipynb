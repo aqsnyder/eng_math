{
 "cells": [
  {
   "cell_type": "code",
   "execution_count": null,
   "metadata": {},
   "outputs": [],
   "source": [
    "import numpy as np\n",
    "import matplotlib.pyplot as plt\n",
    "\n",
    "def function(x, b):\n",
    "    return np.exp(-b * np.cos(x))\n",
    "\n",
    "def simpsons_rule_integration(b, n=1000):\n",
    "    # n should be even for Simpson's rule\n",
    "    if n % 2:\n",
    "        n += 1\n",
    "\n",
    "    a, b_interval = 0, 5\n",
    "    h = (b_interval - a) / n\n",
    "    x = np.linspace(a, b_interval, n+1)\n",
    "    y = function(x, b)\n",
    "\n",
    "    # Apply Simpson's rule\n",
    "    integral = h/3 * (y[0] + y[-1] + 4*np.sum(y[1:-1:2]) + 2*np.sum(y[2:-2:2]))\n",
    "    return integral\n",
    "\n",
    "b_values = np.arange(0, 5.1, 0.1)\n",
    "I_values = [simpsons_rule_integration(b) for b in b_values]\n",
    "\n",
    "plt.plot(b_values, I_values)\n",
    "plt.xlabel('b')\n",
    "plt.ylabel('I(b)')\n",
    "plt.title('Plot of I(b) using Simpson\\'s rule for 0 <= b <= 5')\n",
    "plt.grid(True)\n",
    "plt.show()\n"
   ]
  }
 ],
 "metadata": {
  "kernelspec": {
   "display_name": "eng_math-tuc281Ze",
   "language": "python",
   "name": "python3"
  },
  "language_info": {
   "codemirror_mode": {
    "name": "ipython",
    "version": 3
   },
   "file_extension": ".py",
   "mimetype": "text/x-python",
   "name": "python",
   "nbconvert_exporter": "python",
   "pygments_lexer": "ipython3",
   "version": "3.9.7"
  },
  "orig_nbformat": 4
 },
 "nbformat": 4,
 "nbformat_minor": 2
}
