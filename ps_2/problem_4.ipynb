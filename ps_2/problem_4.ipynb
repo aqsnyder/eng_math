{
 "cells": [
  {
   "cell_type": "code",
   "execution_count": 4,
   "metadata": {},
   "outputs": [
    {
     "name": "stderr",
     "output_type": "stream",
     "text": [
      "C:\\Users\\Aaron\\AppData\\Local\\Temp\\ipykernel_12844\\2389381172.py:37: RuntimeWarning: overflow encountered in multiply\n",
      "  U[-1, :] = -gamma * U[-2, :]  # u_y(y=1) = -gamma * u\n",
      "C:\\Users\\Aaron\\AppData\\Local\\Temp\\ipykernel_12844\\2389381172.py:33: RuntimeWarning: invalid value encountered in scalar add\n",
      "  (U[j+1, i] + U[j-1, i]) * dx**2 -\n",
      "C:\\Users\\Aaron\\AppData\\Local\\Temp\\ipykernel_12844\\2389381172.py:32: RuntimeWarning: invalid value encountered in scalar add\n",
      "  U[j, i] = ((U[j, i+1] + U[j, i-1]) * dy**2 +\n"
     ]
    }
   ],
   "source": [
    "import numpy as np\n",
    "import matplotlib.pyplot as plt\n",
    "from mpl_toolkits.mplot3d import Axes3D\n",
    "\n",
    "# Parameters\n",
    "alpha = 9\n",
    "beta = 8\n",
    "gamma = 5\n",
    "Nx = 100  # Number of points in the x direction\n",
    "Ny = 100  # Number of points in the y direction\n",
    "dx = 2.0 / (Nx - 1)\n",
    "dy = 1.0 / (Ny - 1)\n",
    "max_iter = 4210  # Maximum number of iterations\n",
    "\n",
    "# Initialize the solution matrix\n",
    "U = np.zeros((Ny, Nx))\n",
    "\n",
    "# Boundary conditions\n",
    "U[0, :] = 0  # u_y(y=0) = 0\n",
    "U[:, 0] = beta * np.linspace(0, 1, Ny)  # u_x(x=0) = beta * y\n",
    "U[:, -1] = beta * np.linspace(0, 1, Ny)  # u(x=2) = beta * y\n",
    "U[-1, :] = -gamma * U[-2, :]  # u_y(y=1) = -gamma * u\n",
    "\n",
    "# Source function\n",
    "def f(x, y):\n",
    "    return 40 * np.sin(alpha * y) * (1 - x) if x >= 1 else 0\n",
    "\n",
    "# Finite difference method\n",
    "for k in range(max_iter):\n",
    "    for i in range(1, Nx-1):\n",
    "        for j in range(1, Ny-1):\n",
    "            U[j, i] = ((U[j, i+1] + U[j, i-1]) * dy**2 +\n",
    "                       (U[j+1, i] + U[j-1, i]) * dx**2 -\n",
    "                       f(i*dx, j*dy) * dx**2 * dy**2) / (2 * (dx**2 + dy**2))\n",
    "    \n",
    "    # Enforce boundary conditions\n",
    "    U[-1, :] = -gamma * U[-2, :]  # u_y(y=1) = -gamma * u\n",
    "\n",
    "# Plot the solution\n",
    "x = np.linspace(0, 2, Nx)\n",
    "y = np.linspace(0, 1, Ny)\n",
    "X, Y = np.meshgrid(x, y)\n",
    "\n",
    "fig = plt.figure(figsize=(11, 7), dpi=100)\n",
    "ax = fig.add_subplot(111, projection='3d')\n",
    "surf = ax.plot_surface(X, Y, U, rstride=1, cstride=1, cmap='viridis', linewidth=0, antialiased=False)\n",
    "ax.set_xlabel('$x$')\n",
    "ax.set_ylabel('$y$')\n",
    "ax.set_zlabel('$U$')\n",
    "plt.show()\n"
   ]
  }
 ],
 "metadata": {
  "kernelspec": {
   "display_name": "eng_math-tuc281Ze",
   "language": "python",
   "name": "python3"
  },
  "language_info": {
   "codemirror_mode": {
    "name": "ipython",
    "version": 3
   },
   "file_extension": ".py",
   "mimetype": "text/x-python",
   "name": "python",
   "nbconvert_exporter": "python",
   "pygments_lexer": "ipython3",
   "version": "3.9.7"
  }
 },
 "nbformat": 4,
 "nbformat_minor": 2
}
